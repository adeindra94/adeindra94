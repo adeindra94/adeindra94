{
 "cells": [
  {
   "cell_type": "code",
   "execution_count": 11,
   "id": "2e5d79d3",
   "metadata": {},
   "outputs": [],
   "source": [
    "import numpy as np\n",
    "import scipy.linalg as la\n",
    "np.set_printoptions(suppress=True)"
   ]
  },
  {
   "cell_type": "code",
   "execution_count": 12,
   "id": "999b9300",
   "metadata": {},
   "outputs": [
    {
     "data": {
      "text/plain": [
       "array([[ 1,  2,  3],\n",
       "       [ 2, -4,  6],\n",
       "       [ 3, -9, -3]])"
      ]
     },
     "execution_count": 12,
     "metadata": {},
     "output_type": "execute_result"
    }
   ],
   "source": [
    "A = [[1,  2,  3],\n",
    "     [2, -4,  6],\n",
    "     [3, -9, -3]]\n",
    "\n",
    "A = np.array(A)\n",
    "A"
   ]
  },
  {
   "cell_type": "code",
   "execution_count": 13,
   "id": "6ff88fa3",
   "metadata": {},
   "outputs": [
    {
     "data": {
      "text/plain": [
       "array([[  1,   2,   3],\n",
       "       [  0,  -8,   0],\n",
       "       [  0,   0, -12]])"
      ]
     },
     "execution_count": 13,
     "metadata": {},
     "output_type": "execute_result"
    }
   ],
   "source": [
    "L = np.array([[1,0,0],[2,1,0],[3,15/8,1]])\n",
    "U = np.array([[1,2,3],[0,-8,0],[0,0,-12]])\n",
    "U"
   ]
  },
  {
   "cell_type": "code",
   "execution_count": 14,
   "id": "d4f886e2",
   "metadata": {},
   "outputs": [
    {
     "data": {
      "text/plain": [
       "(array([[0., 1., 0.],\n",
       "        [0., 0., 1.],\n",
       "        [1., 0., 0.]]),\n",
       " array([[1.        , 0.        , 0.        ],\n",
       "        [0.33333333, 1.        , 0.        ],\n",
       "        [0.66666667, 0.4       , 1.        ]]),\n",
       " array([[ 3. , -9. , -3. ],\n",
       "        [ 0. ,  5. ,  4. ],\n",
       "        [ 0. ,  0. ,  6.4]]))"
      ]
     },
     "execution_count": 14,
     "metadata": {},
     "output_type": "execute_result"
    }
   ],
   "source": [
    "P, L, U= la.lu(A)\n",
    "P,L,U"
   ]
  },
  {
   "cell_type": "code",
   "execution_count": 15,
   "id": "41d4c468",
   "metadata": {
    "scrolled": true
   },
   "outputs": [
    {
     "data": {
      "text/plain": [
       "array([[ 1.,  2.,  3.],\n",
       "       [ 2., -4.,  6.],\n",
       "       [ 3., -9., -3.]])"
      ]
     },
     "execution_count": 15,
     "metadata": {},
     "output_type": "execute_result"
    }
   ],
   "source": [
    "P@L@U"
   ]
  },
  {
   "cell_type": "code",
   "execution_count": null,
   "id": "68d86a01",
   "metadata": {},
   "outputs": [],
   "source": []
  }
 ],
 "metadata": {
  "kernelspec": {
   "display_name": "Python 3",
   "language": "python",
   "name": "python3"
  },
  "language_info": {
   "codemirror_mode": {
    "name": "ipython",
    "version": 3
   },
   "file_extension": ".py",
   "mimetype": "text/x-python",
   "name": "python",
   "nbconvert_exporter": "python",
   "pygments_lexer": "ipython3",
   "version": "3.7.3"
  }
 },
 "nbformat": 4,
 "nbformat_minor": 5
}
