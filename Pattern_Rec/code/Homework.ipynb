{
 "cells": [
  {
   "cell_type": "code",
   "execution_count": 9,
   "id": "09a23b9a",
   "metadata": {},
   "outputs": [],
   "source": [
    "import numpy as np\n",
    "from scipy import linalg\n",
    "np.set_printoptions(suppress=True)"
   ]
  },
  {
   "cell_type": "code",
   "execution_count": 26,
   "id": "d16b12fe",
   "metadata": {},
   "outputs": [],
   "source": [
    "#A = np.array([[2,1],[3,1]])\n",
    "e1 = np.array([1,0])\n",
    "e2 = np.array([0,1])\n"
   ]
  },
  {
   "cell_type": "code",
   "execution_count": 22,
   "id": "9e04ad9f",
   "metadata": {},
   "outputs": [
    {
     "name": "stdout",
     "output_type": "stream",
     "text": [
      "Av1: \n",
      "[5 6]\n",
      "Av2: \n",
      "[ 9 13]\n"
     ]
    }
   ],
   "source": [
    "v1 = np.array([1,3])\n",
    "v2 = np.array([4,1])\n",
    "\n",
    "print(\"Av1: \")\n",
    "print(A.dot(v1))\n",
    "print(\"Av2: \")\n",
    "print(A.dot(v2))"
   ]
  },
  {
   "cell_type": "code",
   "execution_count": 19,
   "id": "fd46accb",
   "metadata": {},
   "outputs": [
    {
     "name": "stdout",
     "output_type": "stream",
     "text": [
      "[[1 4]\n",
      " [3 1]]\n"
     ]
    },
    {
     "data": {
      "text/plain": [
       "array([[1., 0.],\n",
       "       [0., 1.]])"
      ]
     },
     "execution_count": 19,
     "metadata": {},
     "output_type": "execute_result"
    }
   ],
   "source": [
    "B = np.array([[1,4],[3,1]])\n",
    "print(B)\n",
    "B_inv = linalg.inv(B)\n",
    "(B.dot(B_inv))"
   ]
  },
  {
   "cell_type": "code",
   "execution_count": 23,
   "id": "f4cfd6c1",
   "metadata": {},
   "outputs": [
    {
     "data": {
      "text/plain": [
       "array([[0.09090909, 4.63636364],\n",
       "       [0.27272727, 2.90909091]])"
      ]
     },
     "execution_count": 23,
     "metadata": {},
     "output_type": "execute_result"
    }
   ],
   "source": [
    "T = B.dot(A.dot(B_inv))\n",
    "T"
   ]
  },
  {
   "cell_type": "code",
   "execution_count": 38,
   "id": "d664a283",
   "metadata": {},
   "outputs": [
    {
     "data": {
      "text/plain": [
       "-3.1554436208840535e-30"
      ]
     },
     "execution_count": 38,
     "metadata": {},
     "output_type": "execute_result"
    }
   ],
   "source": [
    "A = np.array([[1,2,-1,1,2],[3,-4,0,2,3],[0,2,1,0,4],[2,2,-3,2,0],[-2,6,-1,-1,-1]])\n",
    "\n",
    "np.linalg.matrix_rank(A)\n",
    "np.linalg.det(A)"
   ]
  },
  {
   "cell_type": "code",
   "execution_count": 53,
   "id": "d71a527c",
   "metadata": {},
   "outputs": [
    {
     "name": "stdout",
     "output_type": "stream",
     "text": [
      "[1 1 3]\n",
      "[1 0 4]\n",
      "[0 2 1]\n"
     ]
    }
   ],
   "source": [
    "f = np.array([[1,1,0],[1,0,2],[3,4,1]]) #transformation f(x)\n",
    "\n",
    "e1 = np.array([1,0,0]) #demonstrate that f(e1) is (1,1,3) and so on\n",
    "e2 = np.array([0,1,0])\n",
    "e3 = np.array([0,0,1])\n",
    "\n",
    "#new basis vector\n",
    "print(f.dot(e1))\n",
    "print(f.dot(e2))\n",
    "print(f.dot(e3))\n",
    "\n",
    "v1 = np.array([2,3,3])\n",
    "v2 = np.array([8,5,2])\n",
    "v3 = np.array([1,0,5])\n",
    "\n",
    "#print(f)\n",
    "#print(e1,e2,e3)\n",
    "#print(v1,v2,v3)"
   ]
  },
  {
   "cell_type": "code",
   "execution_count": 58,
   "id": "2cabf9a5",
   "metadata": {},
   "outputs": [
    {
     "name": "stdout",
     "output_type": "stream",
     "text": [
      "f(v1): [ 5  8 21]\n",
      "f(v2): [13 12 46]\n",
      "f(v3): [ 1 11  8]\n"
     ]
    }
   ],
   "source": [
    "#transform vector with f\n",
    "print(\"f(v1):\", f.dot(v1))\n",
    "print(\"f(v2):\", f.dot(v2))\n",
    "print(\"f(v3):\", f.dot(v3))"
   ]
  },
  {
   "cell_type": "code",
   "execution_count": null,
   "id": "410fa928",
   "metadata": {},
   "outputs": [],
   "source": []
  }
 ],
 "metadata": {
  "kernelspec": {
   "display_name": "Python 3",
   "language": "python",
   "name": "python3"
  },
  "language_info": {
   "codemirror_mode": {
    "name": "ipython",
    "version": 3
   },
   "file_extension": ".py",
   "mimetype": "text/x-python",
   "name": "python",
   "nbconvert_exporter": "python",
   "pygments_lexer": "ipython3",
   "version": "3.7.3"
  }
 },
 "nbformat": 4,
 "nbformat_minor": 5
}
