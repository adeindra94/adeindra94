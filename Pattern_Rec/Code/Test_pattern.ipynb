{
 "cells": [
  {
   "cell_type": "code",
   "execution_count": 110,
   "id": "5ecbe5fe",
   "metadata": {},
   "outputs": [],
   "source": [
    "import sympy as sm\n",
    "import matplotlib.pyplot as plt\n",
    "import numpy as np\n",
    "from sympy import *\n",
    "from scipy import optimize"
   ]
  },
  {
   "cell_type": "code",
   "execution_count": 126,
   "id": "3e37456e",
   "metadata": {},
   "outputs": [],
   "source": [
    "x = sm.Symbol('x')\n",
    "y = sm.Symbol('y')\n",
    "\n",
    "#f1= x**4 + 4*x**3 + 79*x**2 - 226*x + 720\n"
   ]
  },
  {
   "cell_type": "code",
   "execution_count": 127,
   "id": "7c478ad7",
   "metadata": {},
   "outputs": [],
   "source": [
    "def f(x):\n",
    "    return x**4 + 4*x**3 + 79*x**2 - 226*x + 720\n",
    "def f(y):\n",
    "    return y**4 + 4*y**3 + 79*y**2 - 226*y + 720"
   ]
  },
  {
   "cell_type": "code",
   "execution_count": 128,
   "id": "260572fd",
   "metadata": {},
   "outputs": [
    {
     "data": {
      "text/latex": [
       "$\\displaystyle 4 x^{3} + 12 x^{2} + 158 x - 226$"
      ],
      "text/plain": [
       "4*x**3 + 12*x**2 + 158*x - 226"
      ]
     },
     "execution_count": 128,
     "metadata": {},
     "output_type": "execute_result"
    }
   ],
   "source": [
    "f1 = f(x).diff(x)\n",
    "f1"
   ]
  },
  {
   "cell_type": "code",
   "execution_count": 117,
   "id": "5983c5df",
   "metadata": {},
   "outputs": [
    {
     "data": {
      "text/latex": [
       "$\\displaystyle 12 x^{2} + 24 x + 158$"
      ],
      "text/plain": [
       "12*x**2 + 24*x + 158"
      ]
     },
     "execution_count": 117,
     "metadata": {},
     "output_type": "execute_result"
    }
   ],
   "source": [
    "f2 = f1.diff(x)\n",
    "f2"
   ]
  },
  {
   "cell_type": "code",
   "execution_count": 100,
   "id": "52037246",
   "metadata": {},
   "outputs": [
    {
     "data": {
      "text/plain": [
       "[-3.51651464699782 + 8.95466893164137*I,\n",
       " 1.51651464699782 + 2.34085374635109*I,\n",
       " -3.51651464699782 - 8.95466893164137*I,\n",
       " 1.51651464699782 - 2.34085374635109*I]"
      ]
     },
     "execution_count": 100,
     "metadata": {},
     "output_type": "execute_result"
    }
   ],
   "source": [
    "sol = sm.solve(f(x), x)\n",
    "sol\n",
    "[s.evalf() for s in sol]"
   ]
  },
  {
   "cell_type": "code",
   "execution_count": 103,
   "id": "f4ea2611",
   "metadata": {},
   "outputs": [
    {
     "name": "stdout",
     "output_type": "stream",
     "text": [
      "Global minima found [1.259375]\n",
      "Local minima found 1.2593607942471994\n"
     ]
    }
   ],
   "source": [
    "grid = (-10, 10, 0.1)\n",
    "xmin_global = optimize.brute(f, (grid, ))\n",
    "print(\"Global minima found %s\" % xmin_global)\n",
    "xmin_local = optimize.fminbound(f, 0, 10)\n",
    "print(\"Local minima found %s\" % xmin_local)"
   ]
  },
  {
   "cell_type": "code",
   "execution_count": 159,
   "id": "7135e8a4",
   "metadata": {},
   "outputs": [],
   "source": [
    "eq1=sm.Eq(f(x), 0)\n",
    "eq2=sm.Eq(f(y), 0)\n",
    "\n",
    "#sm.solve([eq1, eq2], x, y,\n",
    "        #dict=True)\n"
   ]
  },
  {
   "cell_type": "code",
   "execution_count": 201,
   "id": "515855c6",
   "metadata": {},
   "outputs": [
    {
     "data": {
      "text/latex": [
       "$\\displaystyle \\left(x^{4} + 4 x^{3} + 79 x^{2} - 226 x + 720\\right) \\left(y^{4} + 4 y^{3} + 79 y^{2} - 226 y + 720\\right)$"
      ],
      "text/plain": [
       "(x**4 + 4*x**3 + 79*x**2 - 226*x + 720)*(y**4 + 4*y**3 + 79*y**2 - 226*y + 720)"
      ]
     },
     "execution_count": 201,
     "metadata": {},
     "output_type": "execute_result"
    }
   ],
   "source": [
    "z = f(x)*f(y)\n",
    "z"
   ]
  },
  {
   "cell_type": "code",
   "execution_count": 182,
   "id": "c95738c3",
   "metadata": {},
   "outputs": [
    {
     "data": {
      "image/png": "[encoded data removed]",
      "text/plain": [
       "<Figure size 432x288 with 1 Axes>"
      ]
     },
     "metadata": {
      "needs_background": "light"
     },
     "output_type": "display_data"
    }
   ],
   "source": [
    "p1 = plot_implicit(eq1)\n",
    "#p2 =  plot_implicit(f(y), (y),show=False)\n",
    "\n",
    "#p1.append(p2[0])"
   ]
  },
  {
   "cell_type": "code",
   "execution_count": 216,
   "id": "54057442",
   "metadata": {},
   "outputs": [
    {
     "data": {
      "image/png": "[encoded data removed]",
      "text/plain": [
       "<Figure size 432x288 with 1 Axes>"
      ]
     },
     "metadata": {
      "needs_background": "light"
     },
     "output_type": "display_data"
    }
   ],
   "source": [
    "p1 = plot(f(x), line_color= 'cyan', legend=True, show= False)\n",
    "p2 = plot(f1, line_color= 'yellow', show= False)\n",
    "p3 = plot(f2, line_color= 'magenta', show= False)\n",
    "\n",
    "p2.extend(p3)\n",
    "p1.extend(p2)\n",
    "p1.show()"
   ]
  },
  {
   "cell_type": "code",
   "execution_count": null,
   "id": "f3ab2247",
   "metadata": {},
   "outputs": [],
   "source": []
  }
 ],
 "metadata": {
  "kernelspec": {
   "display_name": "Python 3 (ipykernel)",
   "language": "python",
   "name": "python3"
  },
  "language_info": {
   "codemirror_mode": {
    "name": "ipython",
    "version": 3
   },
   "file_extension": ".py",
   "mimetype": "text/x-python",
   "name": "python",
   "nbconvert_exporter": "python",
   "pygments_lexer": "ipython3",
   "version": "3.7.3"
  }
 },
 "nbformat": 4,
 "nbformat_minor": 5
}
