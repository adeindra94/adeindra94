{
 "cells": [
  {
   "cell_type": "code",
   "execution_count": 333,
   "id": "76daab58",
   "metadata": {},
   "outputs": [],
   "source": [
    "import numpy as np\n",
    "import matplotlib.pyplot as pl"
   ]
  },
  {
   "cell_type": "code",
   "execution_count": 334,
   "id": "1140bccf",
   "metadata": {},
   "outputs": [],
   "source": [
    "def generate(x, w):\n",
    "    e = np.random.normal(\n",
    "    loc= 0.0,\n",
    "    scale= np.random.uniform(1,10),\n",
    "    size= x.shape[1])\n",
    "    x = np.concatenate(\n",
    "    (np.ones((1,N)),\n",
    "    x),\n",
    "    axis=0)\n",
    "    y= w.T@x +e\n",
    "    return y"
   ]
  },
  {
   "cell_type": "code",
   "execution_count": 335,
   "id": "54533062",
   "metadata": {},
   "outputs": [],
   "source": [
    "np.random.seed(0)\n",
    "N= 100\n",
    "low = -3.0\n",
    "high= 4.0\n",
    "b= -3"
   ]
  },
  {
   "cell_type": "code",
   "execution_count": 336,
   "id": "ffbbf026",
   "metadata": {},
   "outputs": [],
   "source": [
    "w= np.array([b, 3, -2])\n",
    "x= np.random.uniform(low= low,\n",
    "                    high= high,\n",
    "                    size=(2, N))\n",
    "\n",
    "y= generate(x,w)"
   ]
  },
  {
   "cell_type": "code",
   "execution_count": 337,
   "id": "b4284951",
   "metadata": {},
   "outputs": [],
   "source": [
    "#print(x)\n",
    "#print(x.shape)\n",
    "#print(y.shape)"
   ]
  },
  {
   "cell_type": "code",
   "execution_count": 338,
   "id": "fbed59d6",
   "metadata": {},
   "outputs": [
    {
     "data": {
      "text/plain": [
       "Text(0.5, 0, '$y$')"
      ]
     },
     "execution_count": 338,
     "metadata": {},
     "output_type": "execute_result"
    }
   ],
   "source": [
    "ax= pl.axes(projection='3d')\n",
    "ax.scatter3D(x[0,:],x[1,:],y, color='red')\n",
    "ax.set_xlabel('$x_0$')\n",
    "ax.set_ylabel('$x_1$')\n",
    "ax.set_zlabel('$y$')"
   ]
  },
  {
   "cell_type": "code",
   "execution_count": 347,
   "id": "5caff24c",
   "metadata": {
    "scrolled": false
   },
   "outputs": [],
   "source": [
    "o= np.concatenate((np.ones(N).reshape(N,1),\n",
    "                  x.reshape(N,2)),\n",
    "                  axis=1)\n",
    "Y= y.reshape(N,1)\n",
    "#print(o)\n",
    "#print(Y)"
   ]
  },
  {
   "cell_type": "code",
   "execution_count": 348,
   "id": "903526a0",
   "metadata": {},
   "outputs": [],
   "source": [
    "#import math\n",
    "#c = (a+b)/2"
   ]
  },
  {
   "cell_type": "code",
   "execution_count": 353,
   "id": "4e339769",
   "metadata": {},
   "outputs": [
    {
     "name": "stdout",
     "output_type": "stream",
     "text": [
      "[[-3.85154763]\n",
      " [-0.41606561]\n",
      " [ 0.2551698 ]]\n"
     ]
    }
   ],
   "source": [
    "#print (o)\n",
    "w= np.linalg.inv(o.T @o) @(o.T@Y)\n",
    "print(w)"
   ]
  },
  {
   "cell_type": "code",
   "execution_count": 354,
   "id": "703065b0",
   "metadata": {},
   "outputs": [
    {
     "name": "stdout",
     "output_type": "stream",
     "text": [
      "[-3.85154763 -0.41606561  0.2551698 ]\n",
      "Real parameters used creating the data\n",
      "b=w0= -3.0000, a=w1= 4.0000\n",
      "Exact solution using the normal equation\n",
      "w0: -3.8515 w1: -0.4161\n"
     ]
    }
   ],
   "source": [
    "w=np.squeeze(w)\n",
    "print(w)\n",
    "print(\"Real parameters used creating the data\")\n",
    "print(f\"b=w0= {b:.4f}, a=w1= {a:.4f}\")\n",
    "print(\"Exact solution using the normal equation\")\n",
    "print(f\"w0: {w[0]:.4f} w1: {w[1]:.4f}\")"
   ]
  },
  {
   "cell_type": "code",
   "execution_count": 355,
   "id": "15561f26",
   "metadata": {},
   "outputs": [],
   "source": [
    "y_pred1 = w[1] * x[0] + w[0]\n",
    "y_pred2 = w[1] * x[1] + w[0]\n",
    "#print(y_pred2.shape)\n",
    "#print(y_pred1.shape)\n",
    "#print(y_pred)\n",
    "#print(y)"
   ]
  },
  {
   "cell_type": "code",
   "execution_count": 374,
   "id": "7b91a25f",
   "metadata": {},
   "outputs": [
    {
     "name": "stdout",
     "output_type": "stream",
     "text": [
      "(28, 28)\n"
     ]
    }
   ],
   "source": [
    "x1= np.arange(low, high, 0.25)\n",
    "y1= np.arange(low, high, 0.25)\n",
    "X, Y = np.meshgrid(x1,y1)\n",
    "Z=X+Y\n",
    "#Z = np.sqrt(X+Y)\n",
    "print(Z.shape)"
   ]
  },
  {
   "cell_type": "code",
   "execution_count": 380,
   "id": "68c3f9ab",
   "metadata": {},
   "outputs": [
    {
     "data": {
      "text/plain": [
       "Text(0.5, 0, '$y$')"
      ]
     },
     "execution_count": 380,
     "metadata": {},
     "output_type": "execute_result"
    }
   ],
   "source": [
    "ax1= pl.axes(projection='3d')\n",
    "ax1.scatter3D(x[0,:],x[1,:],y, color='red', label=\"Real data\")\n",
    "#y_pred1 = np.zeros(y.shape[:1])\n",
    "#y_pred2 = np.zeros(y.shape[:2])\n",
    "\n",
    "ax1.scatter3D(x[0,:],x[1,:],y_pred2, color='green')\n",
    "ax1.scatter3D(x[0,:],x[1,:],y_pred1, color='green', label=\"Predicted data\")\n",
    "#ax1.scatter3D(y_pred1, y_pred2, y, color='blue')\n",
    "\n",
    "ax1.contour3D(X, Y, Z, 100, cmap='rainbow')\n",
    "ax1.legend()\n",
    "ax1.set_xlabel('$x_0$')\n",
    "ax1.set_ylabel('$x_1$')\n",
    "ax1.set_zlabel('$y$')"
   ]
  },
  {
   "cell_type": "code",
   "execution_count": 316,
   "id": "790f68a1",
   "metadata": {},
   "outputs": [],
   "source": [
    "#print(y_pred1)"
   ]
  },
  {
   "cell_type": "code",
   "execution_count": null,
   "id": "6880481c",
   "metadata": {},
   "outputs": [],
   "source": []
  },
  {
   "cell_type": "code",
   "execution_count": null,
   "id": "0262e183",
   "metadata": {},
   "outputs": [],
   "source": []
  }
 ],
 "metadata": {
  "kernelspec": {
   "display_name": "Python 3 (ipykernel)",
   "language": "python",
   "name": "python3"
  },
  "language_info": {
   "codemirror_mode": {
    "name": "ipython",
    "version": 3
   },
   "file_extension": ".py",
   "mimetype": "text/x-python",
   "name": "python",
   "nbconvert_exporter": "python",
   "pygments_lexer": "ipython3",
   "version": "3.7.3"
  }
 },
 "nbformat": 4,
 "nbformat_minor": 5
}
