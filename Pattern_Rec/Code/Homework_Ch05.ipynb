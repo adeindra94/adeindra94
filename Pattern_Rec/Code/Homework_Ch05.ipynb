{
 "cells": [
  {
   "cell_type": "code",
   "execution_count": 5,
   "id": "899406c1",
   "metadata": {},
   "outputs": [],
   "source": [
    "import pandas as pd\n",
    "import yfinance as yf\n",
    "import datetime\n",
    "from ryPat import *\n",
    "import seaborn as sb\n",
    "sb.set_theme()\n",
    "import pandas_datareader as web"
   ]
  },
  {
   "cell_type": "code",
   "execution_count": 10,
   "id": "b9e45ea7",
   "metadata": {},
   "outputs": [],
   "source": [
    "tk = yf.Tickers(\"GOOGL\")\n",
    "start = datetime.datetime(2020,11,1)\n",
    "end = datetime.datetime(2021,11,1)"
   ]
  },
  {
   "cell_type": "code",
   "execution_count": 11,
   "id": "3fbd71d2",
   "metadata": {},
   "outputs": [
    {
     "name": "stderr",
     "output_type": "stream",
     "text": [
      "Exception in thread Thread-12:\n",
      "Traceback (most recent call last):\n",
      "  File \"/home/amiya/anaconda3/lib/python3.7/threading.py\", line 917, in _bootstrap_inner\n",
      "    self.run()\n",
      "  File \"/home/amiya/anaconda3/lib/python3.7/threading.py\", line 865, in run\n",
      "    self._target(*self._args, **self._kwargs)\n",
      "  File \"/home/amiya/anaconda3/lib/python3.7/site-packages/multitasking/__init__.py\", line 104, in _run_via_pool\n",
      "    return callee(*args, **kwargs)\n",
      "  File \"/home/amiya/anaconda3/lib/python3.7/site-packages/yfinance/multi.py\", line 190, in _download_one_threaded\n",
      "    timeout)\n",
      "  File \"/home/amiya/anaconda3/lib/python3.7/site-packages/yfinance/multi.py\", line 207, in _download_one\n",
      "    timeout=timeout)\n",
      "  File \"/home/amiya/anaconda3/lib/python3.7/site-packages/yfinance/base.py\", line 145, in history\n",
      "    if start or period is None or period.lower() == \"max\":\n",
      "AttributeError: 'builtin_function_or_method' object has no attribute 'lower'\n",
      "\n"
     ]
    },
    {
     "ename": "KeyboardInterrupt",
     "evalue": "",
     "output_type": "error",
     "traceback": [
      "\u001b[0;31m---------------------------------------------------------------------------\u001b[0m",
      "\u001b[0;31mKeyboardInterrupt\u001b[0m                         Traceback (most recent call last)",
      "\u001b[0;32m/tmp/ipykernel_4852/3763595159.py\u001b[0m in \u001b[0;36m<module>\u001b[0;34m\u001b[0m\n\u001b[0;32m----> 1\u001b[0;31m \u001b[0mtkHist\u001b[0m\u001b[0;34m=\u001b[0m\u001b[0mtk\u001b[0m\u001b[0;34m.\u001b[0m\u001b[0mhistory\u001b[0m\u001b[0;34m(\u001b[0m\u001b[0mperiod\u001b[0m\u001b[0;34m=\u001b[0m\u001b[0mmax\u001b[0m\u001b[0;34m)\u001b[0m\u001b[0;34m\u001b[0m\u001b[0;34m\u001b[0m\u001b[0m\n\u001b[0m\u001b[1;32m      2\u001b[0m \u001b[0mtkHist\u001b[0m\u001b[0;34m.\u001b[0m\u001b[0mClose\u001b[0m\u001b[0;34m.\u001b[0m\u001b[0mplot\u001b[0m\u001b[0;34m(\u001b[0m\u001b[0mylabel\u001b[0m\u001b[0;34m=\u001b[0m\u001b[0;34m'$USD'\u001b[0m\u001b[0;34m)\u001b[0m\u001b[0;34m\u001b[0m\u001b[0;34m\u001b[0m\u001b[0m\n\u001b[1;32m      3\u001b[0m \u001b[0mtkHist\u001b[0m\u001b[0;34m.\u001b[0m\u001b[0mClose\u001b[0m\u001b[0;34m.\u001b[0m\u001b[0mhist\u001b[0m\u001b[0;34m(\u001b[0m\u001b[0morientation\u001b[0m\u001b[0;34m=\u001b[0m \u001b[0;34m'horizontal'\u001b[0m\u001b[0;34m)\u001b[0m\u001b[0;34m\u001b[0m\u001b[0;34m\u001b[0m\u001b[0m\n",
      "\u001b[0;32m~/anaconda3/lib/python3.7/site-packages/yfinance/tickers.py\u001b[0m in \u001b[0;36mhistory\u001b[0;34m(self, period, interval, start, end, prepost, actions, auto_adjust, proxy, threads, group_by, progress, timeout, **kwargs)\u001b[0m\n\u001b[1;32m     56\u001b[0m                 \u001b[0mactions\u001b[0m\u001b[0;34m,\u001b[0m \u001b[0mauto_adjust\u001b[0m\u001b[0;34m,\u001b[0m \u001b[0mproxy\u001b[0m\u001b[0;34m,\u001b[0m\u001b[0;34m\u001b[0m\u001b[0;34m\u001b[0m\u001b[0m\n\u001b[1;32m     57\u001b[0m                 \u001b[0mthreads\u001b[0m\u001b[0;34m,\u001b[0m \u001b[0mgroup_by\u001b[0m\u001b[0;34m,\u001b[0m \u001b[0mprogress\u001b[0m\u001b[0;34m,\u001b[0m\u001b[0;34m\u001b[0m\u001b[0;34m\u001b[0m\u001b[0m\n\u001b[0;32m---> 58\u001b[0;31m                 timeout, **kwargs)\n\u001b[0m\u001b[1;32m     59\u001b[0m \u001b[0;34m\u001b[0m\u001b[0m\n\u001b[1;32m     60\u001b[0m     def download(self, period=\"1mo\", interval=\"1d\",\n",
      "\u001b[0;32m~/anaconda3/lib/python3.7/site-packages/yfinance/tickers.py\u001b[0m in \u001b[0;36mdownload\u001b[0;34m(self, period, interval, start, end, prepost, actions, auto_adjust, proxy, threads, group_by, progress, timeout, **kwargs)\u001b[0m\n\u001b[1;32m     76\u001b[0m                               \u001b[0mprogress\u001b[0m\u001b[0;34m=\u001b[0m\u001b[0mprogress\u001b[0m\u001b[0;34m,\u001b[0m\u001b[0;34m\u001b[0m\u001b[0;34m\u001b[0m\u001b[0m\n\u001b[1;32m     77\u001b[0m                               \u001b[0mtimeout\u001b[0m\u001b[0;34m=\u001b[0m\u001b[0mtimeout\u001b[0m\u001b[0;34m,\u001b[0m\u001b[0;34m\u001b[0m\u001b[0;34m\u001b[0m\u001b[0m\n\u001b[0;32m---> 78\u001b[0;31m                               **kwargs)\n\u001b[0m\u001b[1;32m     79\u001b[0m \u001b[0;34m\u001b[0m\u001b[0m\n\u001b[1;32m     80\u001b[0m         \u001b[0;32mfor\u001b[0m \u001b[0msymbol\u001b[0m \u001b[0;32min\u001b[0m \u001b[0mself\u001b[0m\u001b[0;34m.\u001b[0m\u001b[0msymbols\u001b[0m\u001b[0;34m:\u001b[0m\u001b[0;34m\u001b[0m\u001b[0;34m\u001b[0m\u001b[0m\n",
      "\u001b[0;32m~/anaconda3/lib/python3.7/site-packages/yfinance/multi.py\u001b[0m in \u001b[0;36mdownload\u001b[0;34m(tickers, start, end, actions, threads, group_by, auto_adjust, back_adjust, progress, period, show_errors, interval, prepost, proxy, rounding, timeout, **kwargs)\u001b[0m\n\u001b[1;32m    110\u001b[0m                                    rounding=rounding, timeout=timeout)\n\u001b[1;32m    111\u001b[0m         \u001b[0;32mwhile\u001b[0m \u001b[0mlen\u001b[0m\u001b[0;34m(\u001b[0m\u001b[0mshared\u001b[0m\u001b[0;34m.\u001b[0m\u001b[0m_DFS\u001b[0m\u001b[0;34m)\u001b[0m \u001b[0;34m<\u001b[0m \u001b[0mlen\u001b[0m\u001b[0;34m(\u001b[0m\u001b[0mtickers\u001b[0m\u001b[0;34m)\u001b[0m\u001b[0;34m:\u001b[0m\u001b[0;34m\u001b[0m\u001b[0;34m\u001b[0m\u001b[0m\n\u001b[0;32m--> 112\u001b[0;31m             \u001b[0m_time\u001b[0m\u001b[0;34m.\u001b[0m\u001b[0msleep\u001b[0m\u001b[0;34m(\u001b[0m\u001b[0;36m0.01\u001b[0m\u001b[0;34m)\u001b[0m\u001b[0;34m\u001b[0m\u001b[0;34m\u001b[0m\u001b[0m\n\u001b[0m\u001b[1;32m    113\u001b[0m \u001b[0;34m\u001b[0m\u001b[0m\n\u001b[1;32m    114\u001b[0m     \u001b[0;31m# download synchronously\u001b[0m\u001b[0;34m\u001b[0m\u001b[0;34m\u001b[0m\u001b[0;34m\u001b[0m\u001b[0m\n",
      "\u001b[0;31mKeyboardInterrupt\u001b[0m: "
     ]
    }
   ],
   "source": [
    "tkHist=tk.history(period=max)\n",
    "tkHist.Close.plot(ylabel='$USD')\n",
    "tkHist.Close.hist(orientation= 'horizontal')"
   ]
  },
  {
   "cell_type": "code",
   "execution_count": null,
   "id": "ee2d8a39",
   "metadata": {},
   "outputs": [],
   "source": [
    "#df = web.DataReader('GOOGL', data_source='yahoo', start=start, end=end)"
   ]
  },
  {
   "cell_type": "code",
   "execution_count": 38,
   "id": "b59807a9",
   "metadata": {},
   "outputs": [
    {
     "data": {
      "text/html": [
       "<div>\n",
       "<style scoped>\n",
       "    .dataframe tbody tr th:only-of-type {\n",
       "        vertical-align: middle;\n",
       "    }\n",
       "\n",
       "    .dataframe tbody tr th {\n",
       "        vertical-align: top;\n",
       "    }\n",
       "\n",
       "    .dataframe thead th {\n",
       "        text-align: right;\n",
       "    }\n",
       "</style>\n",
       "<table border=\"1\" class=\"dataframe\">\n",
       "  <thead>\n",
       "    <tr style=\"text-align: right;\">\n",
       "      <th></th>\n",
       "      <th>Date</th>\n",
       "      <th>Open</th>\n",
       "      <th>High</th>\n",
       "      <th>Low</th>\n",
       "      <th>Close</th>\n",
       "      <th>Adj Close</th>\n",
       "      <th>Volume</th>\n",
       "    </tr>\n",
       "  </thead>\n",
       "  <tbody>\n",
       "    <tr>\n",
       "      <th>0</th>\n",
       "      <td>2020-12-15</td>\n",
       "      <td>1759.859985</td>\n",
       "      <td>1764.000000</td>\n",
       "      <td>1741.670044</td>\n",
       "      <td>1761.079956</td>\n",
       "      <td>1761.079956</td>\n",
       "      <td>1067600</td>\n",
       "    </tr>\n",
       "    <tr>\n",
       "      <th>1</th>\n",
       "      <td>2020-12-16</td>\n",
       "      <td>1769.109985</td>\n",
       "      <td>1769.109985</td>\n",
       "      <td>1749.060059</td>\n",
       "      <td>1757.189941</td>\n",
       "      <td>1757.189941</td>\n",
       "      <td>1233800</td>\n",
       "    </tr>\n",
       "    <tr>\n",
       "      <th>2</th>\n",
       "      <td>2020-12-17</td>\n",
       "      <td>1763.930054</td>\n",
       "      <td>1766.709961</td>\n",
       "      <td>1731.150024</td>\n",
       "      <td>1740.510010</td>\n",
       "      <td>1740.510010</td>\n",
       "      <td>1744000</td>\n",
       "    </tr>\n",
       "    <tr>\n",
       "      <th>3</th>\n",
       "      <td>2020-12-18</td>\n",
       "      <td>1746.170044</td>\n",
       "      <td>1748.359985</td>\n",
       "      <td>1715.000000</td>\n",
       "      <td>1726.219971</td>\n",
       "      <td>1726.219971</td>\n",
       "      <td>4262800</td>\n",
       "    </tr>\n",
       "    <tr>\n",
       "      <th>4</th>\n",
       "      <td>2020-12-21</td>\n",
       "      <td>1709.130005</td>\n",
       "      <td>1737.000000</td>\n",
       "      <td>1694.000000</td>\n",
       "      <td>1734.560059</td>\n",
       "      <td>1734.560059</td>\n",
       "      <td>1698700</td>\n",
       "    </tr>\n",
       "    <tr>\n",
       "      <th>...</th>\n",
       "      <td>...</td>\n",
       "      <td>...</td>\n",
       "      <td>...</td>\n",
       "      <td>...</td>\n",
       "      <td>...</td>\n",
       "      <td>...</td>\n",
       "      <td>...</td>\n",
       "    </tr>\n",
       "    <tr>\n",
       "      <th>217</th>\n",
       "      <td>2021-10-26</td>\n",
       "      <td>2785.270020</td>\n",
       "      <td>2801.659912</td>\n",
       "      <td>2766.090088</td>\n",
       "      <td>2786.169922</td>\n",
       "      <td>2786.169922</td>\n",
       "      <td>2461800</td>\n",
       "    </tr>\n",
       "    <tr>\n",
       "      <th>218</th>\n",
       "      <td>2021-10-27</td>\n",
       "      <td>2788.100098</td>\n",
       "      <td>2973.000000</td>\n",
       "      <td>2788.100098</td>\n",
       "      <td>2924.350098</td>\n",
       "      <td>2924.350098</td>\n",
       "      <td>4289100</td>\n",
       "    </tr>\n",
       "    <tr>\n",
       "      <th>219</th>\n",
       "      <td>2021-10-28</td>\n",
       "      <td>2942.689941</td>\n",
       "      <td>2943.159912</td>\n",
       "      <td>2892.540039</td>\n",
       "      <td>2916.979980</td>\n",
       "      <td>2916.979980</td>\n",
       "      <td>1810300</td>\n",
       "    </tr>\n",
       "    <tr>\n",
       "      <th>220</th>\n",
       "      <td>2021-10-29</td>\n",
       "      <td>2901.560059</td>\n",
       "      <td>2964.840088</td>\n",
       "      <td>2892.989990</td>\n",
       "      <td>2960.919922</td>\n",
       "      <td>2960.919922</td>\n",
       "      <td>2166000</td>\n",
       "    </tr>\n",
       "    <tr>\n",
       "      <th>221</th>\n",
       "      <td>2021-11-01</td>\n",
       "      <td>2960.919922</td>\n",
       "      <td>2960.919922</td>\n",
       "      <td>2864.510010</td>\n",
       "      <td>2869.939941</td>\n",
       "      <td>2869.939941</td>\n",
       "      <td>2346200</td>\n",
       "    </tr>\n",
       "  </tbody>\n",
       "</table>\n",
       "<p>222 rows × 7 columns</p>\n",
       "</div>"
      ],
      "text/plain": [
       "           Date         Open         High          Low        Close  \\\n",
       "0    2020-12-15  1759.859985  1764.000000  1741.670044  1761.079956   \n",
       "1    2020-12-16  1769.109985  1769.109985  1749.060059  1757.189941   \n",
       "2    2020-12-17  1763.930054  1766.709961  1731.150024  1740.510010   \n",
       "3    2020-12-18  1746.170044  1748.359985  1715.000000  1726.219971   \n",
       "4    2020-12-21  1709.130005  1737.000000  1694.000000  1734.560059   \n",
       "..          ...          ...          ...          ...          ...   \n",
       "217  2021-10-26  2785.270020  2801.659912  2766.090088  2786.169922   \n",
       "218  2021-10-27  2788.100098  2973.000000  2788.100098  2924.350098   \n",
       "219  2021-10-28  2942.689941  2943.159912  2892.540039  2916.979980   \n",
       "220  2021-10-29  2901.560059  2964.840088  2892.989990  2960.919922   \n",
       "221  2021-11-01  2960.919922  2960.919922  2864.510010  2869.939941   \n",
       "\n",
       "       Adj Close   Volume  \n",
       "0    1761.079956  1067600  \n",
       "1    1757.189941  1233800  \n",
       "2    1740.510010  1744000  \n",
       "3    1726.219971  4262800  \n",
       "4    1734.560059  1698700  \n",
       "..           ...      ...  \n",
       "217  2786.169922  2461800  \n",
       "218  2924.350098  4289100  \n",
       "219  2916.979980  1810300  \n",
       "220  2960.919922  2166000  \n",
       "221  2869.939941  2346200  \n",
       "\n",
       "[222 rows x 7 columns]"
      ]
     },
     "execution_count": 38,
     "metadata": {},
     "output_type": "execute_result"
    }
   ],
   "source": [
    "df = pd.read_csv('GOOGL.csv')\n",
    "df"
   ]
  },
  {
   "cell_type": "code",
   "execution_count": 39,
   "id": "64e7bfe0",
   "metadata": {},
   "outputs": [],
   "source": [
    "df.set_index(pd.DatetimeIndex(df['Date']), inplace=True)"
   ]
  },
  {
   "cell_type": "code",
   "execution_count": 40,
   "id": "3605a24e",
   "metadata": {},
   "outputs": [
    {
     "data": {
      "text/plain": [
       "[<matplotlib.lines.Line2D at 0x7fca907ebd30>]"
      ]
     },
     "execution_count": 40,
     "metadata": {},
     "output_type": "execute_result"
    },
    {
     "data": {
      "image/png": "[encoded data removed]",
      "text/plain": [
       "<Figure size 432x288 with 1 Axes>"
      ]
     },
     "metadata": {},
     "output_type": "display_data"
    }
   ],
   "source": [
    "df = df[['Adj Close']]\n",
    "pl.plot(df)"
   ]
  },
  {
   "cell_type": "code",
   "execution_count": 44,
   "id": "51e84e08",
   "metadata": {},
   "outputs": [
    {
     "name": "stdout",
     "output_type": "stream",
     "text": [
      "              Adj Close\n",
      "Date                   \n",
      "2020-12-15  1761.079956\n",
      "2020-12-16  1757.189941\n",
      "2020-12-17  1740.510010\n",
      "2020-12-18  1726.219971\n",
      "2020-12-21  1734.560059\n",
      "...                 ...\n",
      "2021-10-26  2786.169922\n",
      "2021-10-27  2924.350098\n",
      "2021-10-28  2916.979980\n",
      "2021-10-29  2960.919922\n",
      "2021-11-01  2869.939941\n",
      "\n",
      "[222 rows x 1 columns]\n"
     ]
    }
   ],
   "source": [
    "print(df)"
   ]
  },
  {
   "cell_type": "code",
   "execution_count": 45,
   "id": "4c458a3f",
   "metadata": {},
   "outputs": [
    {
     "name": "stdout",
     "output_type": "stream",
     "text": [
      "<class 'pandas.core.frame.DataFrame'>\n",
      "DatetimeIndex: 222 entries, 2020-12-15 to 2021-11-01\n",
      "Data columns (total 1 columns):\n",
      " #   Column     Non-Null Count  Dtype  \n",
      "---  ------     --------------  -----  \n",
      " 0   Adj Close  222 non-null    float64\n",
      "dtypes: float64(1)\n",
      "memory usage: 3.5 KB\n",
      "None\n"
     ]
    }
   ],
   "source": [
    "print(df.info())"
   ]
  },
  {
   "cell_type": "code",
   "execution_count": 46,
   "id": "6b7ff9ec",
   "metadata": {},
   "outputs": [
    {
     "data": {
      "text/plain": [
       "[<matplotlib.lines.Line2D at 0x7fca9076b2e8>]"
      ]
     },
     "execution_count": 46,
     "metadata": {},
     "output_type": "execute_result"
    },
    {
     "data": {
      "image/png": "[encoded data removed]",
      "text/plain": [
       "<Figure size 432x288 with 1 Axes>"
      ]
     },
     "metadata": {},
     "output_type": "display_data"
    }
   ],
   "source": [
    "pl.plot(df)"
   ]
  },
  {
   "cell_type": "code",
   "execution_count": 48,
   "id": "3e931de8",
   "metadata": {},
   "outputs": [],
   "source": [
    "import pandas_ta"
   ]
  },
  {
   "cell_type": "code",
   "execution_count": 49,
   "id": "c7ebb789",
   "metadata": {},
   "outputs": [
    {
     "name": "stdout",
     "output_type": "stream",
     "text": [
      "[X] Ooops!!! It's True, the series 'adj_close' was not found in Adj Close\n"
     ]
    },
    {
     "data": {
      "text/html": [
       "<div>\n",
       "<style scoped>\n",
       "    .dataframe tbody tr th:only-of-type {\n",
       "        vertical-align: middle;\n",
       "    }\n",
       "\n",
       "    .dataframe tbody tr th {\n",
       "        vertical-align: top;\n",
       "    }\n",
       "\n",
       "    .dataframe thead th {\n",
       "        text-align: right;\n",
       "    }\n",
       "</style>\n",
       "<table border=\"1\" class=\"dataframe\">\n",
       "  <thead>\n",
       "    <tr style=\"text-align: right;\">\n",
       "      <th></th>\n",
       "      <th>Adj Close</th>\n",
       "    </tr>\n",
       "    <tr>\n",
       "      <th>Date</th>\n",
       "      <th></th>\n",
       "    </tr>\n",
       "  </thead>\n",
       "  <tbody>\n",
       "    <tr>\n",
       "      <th>2020-12-15</th>\n",
       "      <td>1761.079956</td>\n",
       "    </tr>\n",
       "    <tr>\n",
       "      <th>2020-12-16</th>\n",
       "      <td>1757.189941</td>\n",
       "    </tr>\n",
       "    <tr>\n",
       "      <th>2020-12-17</th>\n",
       "      <td>1740.510010</td>\n",
       "    </tr>\n",
       "    <tr>\n",
       "      <th>2020-12-18</th>\n",
       "      <td>1726.219971</td>\n",
       "    </tr>\n",
       "    <tr>\n",
       "      <th>2020-12-21</th>\n",
       "      <td>1734.560059</td>\n",
       "    </tr>\n",
       "    <tr>\n",
       "      <th>...</th>\n",
       "      <td>...</td>\n",
       "    </tr>\n",
       "    <tr>\n",
       "      <th>2021-10-26</th>\n",
       "      <td>2786.169922</td>\n",
       "    </tr>\n",
       "    <tr>\n",
       "      <th>2021-10-27</th>\n",
       "      <td>2924.350098</td>\n",
       "    </tr>\n",
       "    <tr>\n",
       "      <th>2021-10-28</th>\n",
       "      <td>2916.979980</td>\n",
       "    </tr>\n",
       "    <tr>\n",
       "      <th>2021-10-29</th>\n",
       "      <td>2960.919922</td>\n",
       "    </tr>\n",
       "    <tr>\n",
       "      <th>2021-11-01</th>\n",
       "      <td>2869.939941</td>\n",
       "    </tr>\n",
       "  </tbody>\n",
       "</table>\n",
       "<p>222 rows × 1 columns</p>\n",
       "</div>"
      ],
      "text/plain": [
       "              Adj Close\n",
       "Date                   \n",
       "2020-12-15  1761.079956\n",
       "2020-12-16  1757.189941\n",
       "2020-12-17  1740.510010\n",
       "2020-12-18  1726.219971\n",
       "2020-12-21  1734.560059\n",
       "...                 ...\n",
       "2021-10-26  2786.169922\n",
       "2021-10-27  2924.350098\n",
       "2021-10-28  2916.979980\n",
       "2021-10-29  2960.919922\n",
       "2021-11-01  2869.939941\n",
       "\n",
       "[222 rows x 1 columns]"
      ]
     },
     "execution_count": 49,
     "metadata": {},
     "output_type": "execute_result"
    }
   ],
   "source": [
    "df.ta.ema(close='adj_close', length=10, append=True)"
   ]
  },
  {
   "cell_type": "code",
   "execution_count": 25,
   "id": "6518053c",
   "metadata": {},
   "outputs": [],
   "source": [
    "df = df.iloc[10:]"
   ]
  },
  {
   "cell_type": "code",
   "execution_count": 27,
   "id": "f922fa3e",
   "metadata": {},
   "outputs": [
    {
     "data": {
      "text/plain": [
       "[<matplotlib.lines.Line2D at 0x7fca90c8a9e8>]"
      ]
     },
     "execution_count": 27,
     "metadata": {},
     "output_type": "execute_result"
    },
    {
     "data": {
      "image/png": "[encoded data removed]",
      "text/plain": [
       "<Figure size 432x288 with 1 Axes>"
      ]
     },
     "metadata": {},
     "output_type": "display_data"
    }
   ],
   "source": [
    "import matplotlib.pyplot as pl\n",
    "pl.plot(df)"
   ]
  },
  {
   "cell_type": "code",
   "execution_count": null,
   "id": "75fbcb31",
   "metadata": {},
   "outputs": [],
   "source": []
  }
 ],
 "metadata": {
  "kernelspec": {
   "display_name": "Python 3 (ipykernel)",
   "language": "python",
   "name": "python3"
  },
  "language_info": {
   "codemirror_mode": {
    "name": "ipython",
    "version": 3
   },
   "file_extension": ".py",
   "mimetype": "text/x-python",
   "name": "python",
   "nbconvert_exporter": "python",
   "pygments_lexer": "ipython3",
   "version": "3.7.3"
  }
 },
 "nbformat": 4,
 "nbformat_minor": 5
}
